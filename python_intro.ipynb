{
 "cells": [
  {
   "cell_type": "markdown",
   "id": "bd37b251-e99e-43fb-ad64-417999c038ee",
   "metadata": {},
   "source": [
    "# Python Data Structures\n",
    "- variables and types\n",
    "- strings, ints, floats, boolean\n",
    "- lists\n",
    "- dictionaries\n",
    "- CSV data"
   ]
  },
  {
   "cell_type": "markdown",
   "id": "6467254f-e40a-4c65-bb06-f2d279e5b25a",
   "metadata": {},
   "source": [
    "## Variables and Types"
   ]
  },
  {
   "cell_type": "code",
   "execution_count": 5,
   "id": "e5a63f67-9765-4efd-bbb5-bb1d217d489f",
   "metadata": {},
   "outputs": [
    {
     "name": "stdout",
     "output_type": "stream",
     "text": [
      "Python <class 'str'>\n"
     ]
    }
   ],
   "source": [
    "# it's a good idea to provide a type and default value for Python variables\n",
    "language:str = 'Python'\n",
    "print(language, type(language))"
   ]
  },
  {
   "cell_type": "code",
   "execution_count": 6,
   "id": "6e004c6e-616b-4dd0-aeea-6fd5d9bde3cc",
   "metadata": {},
   "outputs": [
    {
     "name": "stdout",
     "output_type": "stream",
     "text": [
      "25 <class 'int'>\n",
      "25 <class 'str'>\n"
     ]
    }
   ],
   "source": [
    "# even though your provide a type, Python allows you to change it without error\n",
    "age:int = 25\n",
    "print(age, type(age))\n",
    "age = \"25\"\n",
    "print(age, type(age))"
   ]
  },
  {
   "cell_type": "markdown",
   "id": "24cf8489-3263-409c-9926-470ce0b48375",
   "metadata": {},
   "source": [
    "## Strings, Ints, Floats, Booleans"
   ]
  },
  {
   "cell_type": "code",
   "execution_count": 1,
   "id": "630dbfb9-88bd-4aa7-8945-67d5efb688c6",
   "metadata": {},
   "outputs": [
    {
     "name": "stdout",
     "output_type": "stream",
     "text": [
      "It always seems impossible until it's done. (Nelson Mandela) <class 'str'> \n",
      "\n",
      "2025 <class 'int'> \n",
      "\n",
      "1.0 <class 'float'> \n",
      "\n",
      "the sun rises in the east: True <class 'bool'> \n",
      "\n",
      "the sun sets in the east: False <class 'bool'> \n",
      "\n"
     ]
    }
   ],
   "source": [
    "newline = \"\\n\"\n",
    "# strings hold text\n",
    "famous_quote = \"It always seems impossible until it's done. (Nelson Mandela)\"\n",
    "print(famous_quote, type(famous_quote),newline)\n",
    "\n",
    "# ints hold numbers without decimals\n",
    "year = 2025\n",
    "print(year, type(year),newline)\n",
    "\n",
    "# floats hold numbers with decimals\n",
    "price = 1.00\n",
    "print(price, type(price),newline)\n",
    "\n",
    "# boolean holds True or False\n",
    "the_sun_rises_in_the_east = True\n",
    "the_sun_sets_in_the_east = False\n",
    "print(\"the sun rises in the east:\", the_sun_rises_in_the_east, type(the_sun_rises_in_the_east),newline)\n",
    "print(\"the sun sets in the east:\", the_sun_sets_in_the_east, type(the_sun_sets_in_the_east),newline)\n"
   ]
  },
  {
   "cell_type": "markdown",
   "id": "91416da5-139f-4e02-ae34-c6add87ec1f9",
   "metadata": {},
   "source": [
    "## Lists  \n",
    "Data indexed by number starting at 0"
   ]
  },
  {
   "cell_type": "code",
   "execution_count": 7,
   "id": "f1b10e74-b343-4ad1-be44-79092425dc30",
   "metadata": {},
   "outputs": [
    {
     "name": "stdout",
     "output_type": "stream",
     "text": [
      "bob\n",
      "mary\n",
      "['bob', 'sue', 'tom', 'mary']\n",
      "['bob', 'sue', 'tom', 'mary']\n",
      "['tom', 'mary']\n",
      "['bob', 'sue', 'tom']\n",
      "['tom']\n"
     ]
    }
   ],
   "source": [
    "names = ['bob','sue','tom','mary']\n",
    "print(names[0])\n",
    "print(names[3])\n",
    "print(names)\n",
    "# USING THE COLON to access values in list\n",
    "# all values in list \n",
    "print(names[:])\n",
    "# all values starting with index to end of string\n",
    "print(names[2:])\n",
    "# all values starting at the beginning of list not including the ending index\n",
    "print(names[:3])\n",
    "# first index included, second index ignored\n",
    "print(names[2:3])"
   ]
  },
  {
   "cell_type": "markdown",
   "id": "0b19dd2b-26cf-43c0-99de-53ec1e916c23",
   "metadata": {},
   "source": [
    "## Dictionaries  \n",
    "Key Value Pairs in Curly Braces  \n",
    "Data indexed by Key"
   ]
  },
  {
   "cell_type": "code",
   "execution_count": 14,
   "id": "ef3c1dec-87b3-4ae3-b930-9897300d8610",
   "metadata": {},
   "outputs": [
    {
     "name": "stdout",
     "output_type": "stream",
     "text": [
      "{'name': 'bob', 'birthday': '2025-06-04'}\n",
      "{'name': 'bob', 'birthday': '2025-06-04'}\n",
      "bob 2025-06-04\n"
     ]
    }
   ],
   "source": [
    "import datetime\n",
    "\n",
    "# Date as a string\n",
    "data1 = {\"name\":\"bob\",\"birthday\":\"2025-06-04\"}\n",
    "print(data1)\n",
    "\n",
    "# Creating date string from actual date time value\n",
    "current_date = datetime.datetime.now()\n",
    "current_date_as_string = current_date.strftime('%Y-%m-%d')\n",
    "data2 = {\"name\":\"bob\",\"birthday\": current_date_as_string}\n",
    "print(data2)\n",
    "\n",
    "print(data1[\"name\"], data2[\"birthday\"])"
   ]
  },
  {
   "cell_type": "markdown",
   "id": "48efacad-be33-4faa-8b4e-828ea311c8ff",
   "metadata": {},
   "source": [
    "## CSV file format   \n",
    "Comma Separated Value"
   ]
  },
  {
   "cell_type": "markdown",
   "id": "2cf6338a-d834-4573-a4ab-87780f2994b7",
   "metadata": {},
   "source": [
    "Sample CSV Data: \n",
    "\n",
    "```csv\n",
    "name,color  \n",
    "bob,brown  \n",
    "sue,blue  \n",
    "jack,yellow  \n",
    "mary,green  \n",
    "sam,red  \n",
    "ann,pink \n",
    "```"
   ]
  },
  {
   "cell_type": "markdown",
   "id": "1e277016-d708-4a73-8e5d-46df0f3e18fa",
   "metadata": {},
   "source": [
    "with open('./data/test.csv', 'r') as file:\n",
    "    rows = file.readlines()\n",
    "    for row in rows:\n",
    "        print(row.strip())\n",
    "        data = row.strip().split(',')\n",
    "        print(data[0],data[1])\n"
   ]
  },
  {
   "cell_type": "code",
   "execution_count": null,
   "id": "90dd421b-639f-4417-8537-7a862e7fa5f3",
   "metadata": {},
   "outputs": [],
   "source": []
  }
 ],
 "metadata": {
  "kernelspec": {
   "display_name": "Python 3 (ipykernel)",
   "language": "python",
   "name": "python3"
  },
  "language_info": {
   "codemirror_mode": {
    "name": "ipython",
    "version": 3
   },
   "file_extension": ".py",
   "mimetype": "text/x-python",
   "name": "python",
   "nbconvert_exporter": "python",
   "pygments_lexer": "ipython3",
   "version": "3.13.3"
  }
 },
 "nbformat": 4,
 "nbformat_minor": 5
}
