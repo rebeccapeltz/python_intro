{
 "cells": [
  {
   "cell_type": "markdown",
   "id": "bd37b251-e99e-43fb-ad64-417999c038ee",
   "metadata": {},
   "source": [
    "# Python Data Structures\n",
    "- variables and types\n",
    "- strings, ints, floats, boolean\n",
    "- lists\n",
    "- dictionaries\n",
    "- CSV data"
   ]
  },
  {
   "cell_type": "markdown",
   "id": "6467254f-e40a-4c65-bb06-f2d279e5b25a",
   "metadata": {},
   "source": [
    "## Variables and Types"
   ]
  },
  {
   "cell_type": "code",
   "execution_count": 5,
   "id": "e5a63f67-9765-4efd-bbb5-bb1d217d489f",
   "metadata": {},
   "outputs": [
    {
     "name": "stdout",
     "output_type": "stream",
     "text": [
      "Python <class 'str'>\n"
     ]
    }
   ],
   "source": [
    "# it's a good idea to provide a type and default value for Python variables\n",
    "language:str = 'Python'\n",
    "print(language, type(language))"
   ]
  },
  {
   "cell_type": "code",
   "execution_count": 6,
   "id": "6e004c6e-616b-4dd0-aeea-6fd5d9bde3cc",
   "metadata": {},
   "outputs": [
    {
     "name": "stdout",
     "output_type": "stream",
     "text": [
      "25 <class 'int'>\n",
      "25 <class 'str'>\n"
     ]
    }
   ],
   "source": [
    "# even though your provide a type, Python allows you to change it without error\n",
    "age:int = 25\n",
    "print(age, type(age))\n",
    "age = \"25\"\n",
    "print(age, type(age))"
   ]
  },
  {
   "cell_type": "markdown",
   "id": "24cf8489-3263-409c-9926-470ce0b48375",
   "metadata": {},
   "source": [
    "## Strings, Ints, Floats, Boolean"
   ]
  },
  {
   "cell_type": "code",
   "execution_count": 1,
   "id": "630dbfb9-88bd-4aa7-8945-67d5efb688c6",
   "metadata": {},
   "outputs": [
    {
     "name": "stdout",
     "output_type": "stream",
     "text": [
      "It always seems impossible until it's done. (Nelson Mandela) <class 'str'> \n",
      "\n",
      "2025 <class 'int'> \n",
      "\n",
      "1.0 <class 'float'> \n",
      "\n",
      "the sun rises in the east: True <class 'bool'> \n",
      "\n",
      "the sun sets in the east: False <class 'bool'> \n",
      "\n"
     ]
    }
   ],
   "source": [
    "newline = \"\\n\"\n",
    "# strings hold text\n",
    "famous_quote = \"It always seems impossible until it's done. (Nelson Mandela)\"\n",
    "print(famous_quote, type(famous_quote),newline)\n",
    "\n",
    "# ints hold numbers without decimals\n",
    "year = 2025\n",
    "print(year, type(year),newline)\n",
    "\n",
    "# floats hold numbers with decimals\n",
    "price = 1.00\n",
    "print(price, type(price),newline)\n",
    "\n",
    "# boolean holds True or False\n",
    "the_sun_rises_in_the_east = True\n",
    "the_sun_sets_in_the_east = False\n",
    "print(\"the sun rises in the east:\", the_sun_rises_in_the_east, type(the_sun_rises_in_the_east),newline)\n",
    "print(\"the sun sets in the east:\", the_sun_sets_in_the_east, type(the_sun_sets_in_the_east),newline)\n"
   ]
  },
  {
   "cell_type": "code",
   "execution_count": null,
   "id": "a319bb39-91cd-4f6f-992b-b70ae112acb4",
   "metadata": {},
   "outputs": [],
   "source": []
  }
 ],
 "metadata": {
  "kernelspec": {
   "display_name": "Python 3 (ipykernel)",
   "language": "python",
   "name": "python3"
  },
  "language_info": {
   "codemirror_mode": {
    "name": "ipython",
    "version": 3
   },
   "file_extension": ".py",
   "mimetype": "text/x-python",
   "name": "python",
   "nbconvert_exporter": "python",
   "pygments_lexer": "ipython3",
   "version": "3.13.3"
  }
 },
 "nbformat": 4,
 "nbformat_minor": 5
}
